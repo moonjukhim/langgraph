{
 "cells": [
  {
   "cell_type": "code",
   "execution_count": 1,
   "metadata": {},
   "outputs": [
    {
     "data": {
      "text/plain": [
       "True"
      ]
     },
     "execution_count": 1,
     "metadata": {},
     "output_type": "execute_result"
    }
   ],
   "source": [
    "from dotenv import load_dotenv\n",
    "\n",
    "load_dotenv()"
   ]
  },
  {
   "cell_type": "code",
   "execution_count": null,
   "metadata": {
    "execution": {
     "iopub.execute_input": "2025-06-14T13:22:47.335631Z",
     "iopub.status.busy": "2025-06-14T13:22:47.335131Z",
     "iopub.status.idle": "2025-06-14T13:22:47.397227Z",
     "shell.execute_reply": "2025-06-14T13:22:47.396455Z",
     "shell.execute_reply.started": "2025-06-14T13:22:47.335604Z"
    }
   },
   "outputs": [],
   "source": [
    "from langgraph.graph import END, START, StateGraph, MessagesState\n",
    "from langchain_openai import ChatOpenAI\n",
    "from langchain_core.tools import tool\n",
    "from langgraph.prebuilt import ToolNode\n",
    "from typing import Literal"
   ]
  },
  {
   "cell_type": "code",
   "execution_count": 2,
   "metadata": {
    "execution": {
     "iopub.execute_input": "2025-06-14T13:22:56.822718Z",
     "iopub.status.busy": "2025-06-14T13:22:56.822192Z",
     "iopub.status.idle": "2025-06-14T13:22:56.829281Z",
     "shell.execute_reply": "2025-06-14T13:22:56.828703Z",
     "shell.execute_reply.started": "2025-06-14T13:22:56.822688Z"
    }
   },
   "outputs": [],
   "source": [
    "@tool\n",
    "def get_weather(location: str):\n",
    "    \"\"\"Call to get the current weather.\"\"\"\n",
    "    if location.lower() in [\"서울\"]:\n",
    "        return \"기온은 섭씨 15도이고 흐립니다.\"\n",
    "    else:\n",
    "        return \"기온은 섭씨 30도이고 화창합니다.\""
   ]
  },
  {
   "cell_type": "code",
   "execution_count": 3,
   "metadata": {
    "execution": {
     "iopub.execute_input": "2025-06-14T13:23:10.012151Z",
     "iopub.status.busy": "2025-06-14T13:23:10.011870Z",
     "iopub.status.idle": "2025-06-14T13:23:10.023502Z",
     "shell.execute_reply": "2025-06-14T13:23:10.022809Z",
     "shell.execute_reply.started": "2025-06-14T13:23:10.012128Z"
    }
   },
   "outputs": [
    {
     "data": {
      "text/plain": [
       "'기온은 섭씨 15도이고 흐립니다.'"
      ]
     },
     "execution_count": 3,
     "metadata": {},
     "output_type": "execute_result"
    }
   ],
   "source": [
    "get_weather.invoke(input={\"location\": \"서울\"})"
   ]
  },
  {
   "cell_type": "code",
   "execution_count": null,
   "metadata": {
    "execution": {
     "iopub.execute_input": "2025-06-14T13:24:53.566774Z",
     "iopub.status.busy": "2025-06-14T13:24:53.566130Z",
     "iopub.status.idle": "2025-06-14T13:24:53.574976Z",
     "shell.execute_reply": "2025-06-14T13:24:53.574224Z",
     "shell.execute_reply.started": "2025-06-14T13:24:53.566741Z"
    }
   },
   "outputs": [],
   "source": [
    "tools = [get_weather]\n",
    "llm = ChatOpenAI(model=\"gpt-4o-mini\").bind_tools(tools)"
   ]
  },
  {
   "cell_type": "code",
   "execution_count": 6,
   "metadata": {
    "execution": {
     "iopub.execute_input": "2025-06-14T13:25:17.259039Z",
     "iopub.status.busy": "2025-06-14T13:25:17.257600Z",
     "iopub.status.idle": "2025-06-14T13:25:19.714798Z",
     "shell.execute_reply": "2025-06-14T13:25:19.714164Z",
     "shell.execute_reply.started": "2025-06-14T13:25:17.258962Z"
    }
   },
   "outputs": [
    {
     "data": {
      "text/plain": [
       "AIMessage(content='안녕하세요. 제가 도와드릴 수 있는 일이 있나요?', additional_kwargs={'usage': {'prompt_tokens': 225, 'completion_tokens': 33, 'cache_read_input_tokens': 0, 'cache_write_input_tokens': 0, 'total_tokens': 258}, 'stop_reason': 'end_turn', 'thinking': {}, 'model_id': 'anthropic.claude-3-sonnet-20240229-v1:0', 'model_name': 'anthropic.claude-3-sonnet-20240229-v1:0'}, response_metadata={'usage': {'prompt_tokens': 225, 'completion_tokens': 33, 'cache_read_input_tokens': 0, 'cache_write_input_tokens': 0, 'total_tokens': 258}, 'stop_reason': 'end_turn', 'thinking': {}, 'model_id': 'anthropic.claude-3-sonnet-20240229-v1:0', 'model_name': 'anthropic.claude-3-sonnet-20240229-v1:0'}, id='run--545d88a4-d67b-4bd8-ba9b-d339cdb18ae2-0', usage_metadata={'input_tokens': 225, 'output_tokens': 33, 'total_tokens': 258, 'input_token_details': {'cache_creation': 0, 'cache_read': 0}})"
      ]
     },
     "execution_count": 6,
     "metadata": {},
     "output_type": "execute_result"
    }
   ],
   "source": [
    "llm.invoke(\"안녕?\")"
   ]
  },
  {
   "cell_type": "code",
   "execution_count": 7,
   "metadata": {
    "execution": {
     "iopub.execute_input": "2025-06-14T13:25:33.475968Z",
     "iopub.status.busy": "2025-06-14T13:25:33.475688Z",
     "iopub.status.idle": "2025-06-14T13:25:34.666858Z",
     "shell.execute_reply": "2025-06-14T13:25:34.666112Z",
     "shell.execute_reply.started": "2025-06-14T13:25:33.475946Z"
    }
   },
   "outputs": [
    {
     "data": {
      "text/plain": [
       "AIMessage(content='알겠습니다. 서울의 현재 날씨를 알아보겠습니다.', additional_kwargs={'usage': {'prompt_tokens': 233, 'completion_tokens': 85, 'cache_read_input_tokens': 0, 'cache_write_input_tokens': 0, 'total_tokens': 318}, 'stop_reason': 'tool_use', 'thinking': {}, 'model_id': 'anthropic.claude-3-sonnet-20240229-v1:0', 'model_name': 'anthropic.claude-3-sonnet-20240229-v1:0'}, response_metadata={'usage': {'prompt_tokens': 233, 'completion_tokens': 85, 'cache_read_input_tokens': 0, 'cache_write_input_tokens': 0, 'total_tokens': 318}, 'stop_reason': 'tool_use', 'thinking': {}, 'model_id': 'anthropic.claude-3-sonnet-20240229-v1:0', 'model_name': 'anthropic.claude-3-sonnet-20240229-v1:0'}, id='run--c5c69e42-c9e9-4106-a82d-c02c5f141f32-0', tool_calls=[{'name': 'get_weather', 'args': {'location': '서울'}, 'id': 'toolu_bdrk_017jjmfsoS9kJJhE51a7SEV6', 'type': 'tool_call'}], usage_metadata={'input_tokens': 233, 'output_tokens': 85, 'total_tokens': 318, 'input_token_details': {'cache_creation': 0, 'cache_read': 0}})"
      ]
     },
     "execution_count": 7,
     "metadata": {},
     "output_type": "execute_result"
    }
   ],
   "source": [
    "llm.invoke(\"서울의 날씨는 어때?\")"
   ]
  },
  {
   "cell_type": "code",
   "execution_count": 17,
   "metadata": {
    "execution": {
     "iopub.execute_input": "2025-06-14T13:29:16.118531Z",
     "iopub.status.busy": "2025-06-14T13:29:16.117999Z",
     "iopub.status.idle": "2025-06-14T13:29:16.122984Z",
     "shell.execute_reply": "2025-06-14T13:29:16.122244Z",
     "shell.execute_reply.started": "2025-06-14T13:29:16.118505Z"
    }
   },
   "outputs": [],
   "source": [
    "def call_model(state: MessagesState):\n",
    "    messages = state[\"messages\"]\n",
    "    response = llm.invoke(messages)\n",
    "    return {\"messages\": [response]}\n",
    "\n",
    "\n",
    "def should_continue(state: MessagesState) -> Literal[\"tools\", END]:\n",
    "    messages = state[\"messages\"]\n",
    "    last_message = messages[-1]\n",
    "    if last_message.tool_calls:\n",
    "        return \"tools\"\n",
    "    return END"
   ]
  },
  {
   "cell_type": "code",
   "execution_count": 18,
   "metadata": {
    "execution": {
     "iopub.execute_input": "2025-06-14T13:29:18.189670Z",
     "iopub.status.busy": "2025-06-14T13:29:18.189322Z",
     "iopub.status.idle": "2025-06-14T13:29:18.195210Z",
     "shell.execute_reply": "2025-06-14T13:29:18.194433Z",
     "shell.execute_reply.started": "2025-06-14T13:29:18.189647Z"
    }
   },
   "outputs": [
    {
     "data": {
      "text/plain": [
       "<langgraph.graph.state.StateGraph at 0x7f01f9272d80>"
      ]
     },
     "execution_count": 18,
     "metadata": {},
     "output_type": "execute_result"
    }
   ],
   "source": [
    "workflow = StateGraph(MessagesState)\n",
    "tool_node = ToolNode(tools)\n",
    "\n",
    "workflow.add_node(\"agent\", call_model)\n",
    "workflow.add_node(\"tools\", tool_node)"
   ]
  },
  {
   "cell_type": "code",
   "execution_count": 19,
   "metadata": {
    "execution": {
     "iopub.execute_input": "2025-06-14T13:29:19.299673Z",
     "iopub.status.busy": "2025-06-14T13:29:19.299100Z",
     "iopub.status.idle": "2025-06-14T13:29:19.305291Z",
     "shell.execute_reply": "2025-06-14T13:29:19.304480Z",
     "shell.execute_reply.started": "2025-06-14T13:29:19.299645Z"
    }
   },
   "outputs": [
    {
     "data": {
      "text/plain": [
       "<langgraph.graph.state.StateGraph at 0x7f01f9272d80>"
      ]
     },
     "execution_count": 19,
     "metadata": {},
     "output_type": "execute_result"
    }
   ],
   "source": [
    "workflow.add_edge(START, \"agent\")\n",
    "\n",
    "workflow.add_conditional_edges(\n",
    "    \"agent\",\n",
    "    should_continue,\n",
    ")\n",
    "workflow.add_edge(\"tools\", \"agent\")"
   ]
  },
  {
   "cell_type": "code",
   "execution_count": 20,
   "metadata": {
    "execution": {
     "iopub.execute_input": "2025-06-14T13:29:22.063704Z",
     "iopub.status.busy": "2025-06-14T13:29:22.062967Z",
     "iopub.status.idle": "2025-06-14T13:29:22.068849Z",
     "shell.execute_reply": "2025-06-14T13:29:22.067835Z",
     "shell.execute_reply.started": "2025-06-14T13:29:22.063678Z"
    }
   },
   "outputs": [],
   "source": [
    "graph = workflow.compile()"
   ]
  },
  {
   "cell_type": "code",
   "execution_count": 21,
   "metadata": {
    "execution": {
     "iopub.execute_input": "2025-06-14T13:29:23.515071Z",
     "iopub.status.busy": "2025-06-14T13:29:23.514794Z",
     "iopub.status.idle": "2025-06-14T13:29:23.563983Z",
     "shell.execute_reply": "2025-06-14T13:29:23.562843Z",
     "shell.execute_reply.started": "2025-06-14T13:29:23.515050Z"
    }
   },
   "outputs": [
    {
     "data": {
      "image/png": "[encoded data removed]",
      "text/plain": [
       "<IPython.core.display.Image object>"
      ]
     },
     "metadata": {},
     "output_type": "display_data"
    }
   ],
   "source": [
    "from IPython.display import Image, display\n",
    "from langchain_core.runnables.graph import MermaidDrawMethod\n",
    "\n",
    "display(\n",
    "    Image(\n",
    "        graph.get_graph().draw_mermaid_png(\n",
    "            draw_method=MermaidDrawMethod.API,\n",
    "        )\n",
    "    )\n",
    ")"
   ]
  },
  {
   "cell_type": "code",
   "execution_count": 24,
   "metadata": {
    "execution": {
     "iopub.execute_input": "2025-06-14T13:30:16.584086Z",
     "iopub.status.busy": "2025-06-14T13:30:16.583815Z",
     "iopub.status.idle": "2025-06-14T13:30:16.588026Z",
     "shell.execute_reply": "2025-06-14T13:30:16.587269Z",
     "shell.execute_reply.started": "2025-06-14T13:30:16.584065Z"
    }
   },
   "outputs": [],
   "source": [
    "from langchain_core.messages import HumanMessage\n",
    "\n",
    "messages1 = [HumanMessage(content=\"안녕?\")]\n",
    "messages2 = [HumanMessage(content=\"서울의 날씨는 어때?\")]"
   ]
  },
  {
   "cell_type": "code",
   "execution_count": null,
   "metadata": {
    "execution": {
     "iopub.execute_input": "2025-06-14T13:30:17.954885Z",
     "iopub.status.busy": "2025-06-14T13:30:17.954539Z",
     "iopub.status.idle": "2025-06-14T13:30:21.918258Z",
     "shell.execute_reply": "2025-06-14T13:30:21.917536Z",
     "shell.execute_reply.started": "2025-06-14T13:30:17.954860Z"
    }
   },
   "outputs": [
    {
     "data": {
      "text/plain": [
       "{'messages': [HumanMessage(content='서울의 날씨는 어때?', additional_kwargs={}, response_metadata={}, id='5ea185af-ae79-429b-bec6-198f1b32b0f8'),\n",
       "  AIMessage(content='', additional_kwargs={'usage': {'prompt_tokens': 233, 'completion_tokens': 54, 'cache_read_input_tokens': 0, 'cache_write_input_tokens': 0, 'total_tokens': 287}, 'stop_reason': 'tool_use', 'thinking': {}, 'model_id': 'anthropic.claude-3-sonnet-20240229-v1:0', 'model_name': 'anthropic.claude-3-sonnet-20240229-v1:0'}, response_metadata={'usage': {'prompt_tokens': 233, 'completion_tokens': 54, 'cache_read_input_tokens': 0, 'cache_write_input_tokens': 0, 'total_tokens': 287}, 'stop_reason': 'tool_use', 'thinking': {}, 'model_id': 'anthropic.claude-3-sonnet-20240229-v1:0', 'model_name': 'anthropic.claude-3-sonnet-20240229-v1:0'}, id='run--724880fa-7ea3-48c5-9efa-85c50b72f6a7-0', tool_calls=[{'name': 'get_weather', 'args': {'location': '서울'}, 'id': 'toolu_bdrk_015EL6z5Y4JsDkRqGBVmbUFd', 'type': 'tool_call'}], usage_metadata={'input_tokens': 233, 'output_tokens': 54, 'total_tokens': 287, 'input_token_details': {'cache_creation': 0, 'cache_read': 0}}),\n",
       "  ToolMessage(content='기온은 섭씨 15도이고 흐립니다.', name='get_weather', id='5466d719-705e-409a-acc0-1bd01dbc8fee', tool_call_id='toolu_bdrk_015EL6z5Y4JsDkRqGBVmbUFd'),\n",
       "  AIMessage(content='서울의 현재 날씨는 기온이 15도로 선선한 편이며, 날씨는 흐린 날씨입니다. 우산을 챙기시는 것이 좋겠습니다.', additional_kwargs={'usage': {'prompt_tokens': 318, 'completion_tokens': 71, 'cache_read_input_tokens': 0, 'cache_write_input_tokens': 0, 'total_tokens': 389}, 'stop_reason': 'end_turn', 'thinking': {}, 'model_id': 'anthropic.claude-3-sonnet-20240229-v1:0', 'model_name': 'anthropic.claude-3-sonnet-20240229-v1:0'}, response_metadata={'usage': {'prompt_tokens': 318, 'completion_tokens': 71, 'cache_read_input_tokens': 0, 'cache_write_input_tokens': 0, 'total_tokens': 389}, 'stop_reason': 'end_turn', 'thinking': {}, 'model_id': 'anthropic.claude-3-sonnet-20240229-v1:0', 'model_name': 'anthropic.claude-3-sonnet-20240229-v1:0'}, id='run--a2cf0c41-e945-4aa4-a2f7-be3a891e24f9-0', usage_metadata={'input_tokens': 318, 'output_tokens': 71, 'total_tokens': 389, 'input_token_details': {'cache_creation': 0, 'cache_read': 0}})]}"
      ]
     },
     "execution_count": 25,
     "metadata": {},
     "output_type": "execute_result"
    }
   ],
   "source": [
    "graph.invoke({\"messages\": messages1})"
   ]
  },
  {
   "cell_type": "code",
   "execution_count": 26,
   "metadata": {
    "execution": {
     "iopub.execute_input": "2025-06-14T13:31:20.516747Z",
     "iopub.status.busy": "2025-06-14T13:31:20.516386Z",
     "iopub.status.idle": "2025-06-14T13:31:24.728816Z",
     "shell.execute_reply": "2025-06-14T13:31:24.727938Z",
     "shell.execute_reply.started": "2025-06-14T13:31:20.516725Z"
    }
   },
   "outputs": [
    {
     "data": {
      "text/plain": [
       "{'messages': [HumanMessage(content='그 도시는 어떤게 유명해?', additional_kwargs={}, response_metadata={}, id='56f8a30b-8886-4846-af2a-d4280e5e6776'),\n",
       "  AIMessage(content='죄송합니다. 어떤 도시에 대해 말씀하시는지 구체적으로 명시해주시면 그 도시의 유명한 특징이나 명소에 대해 자세히 알려드리겠습니다.', additional_kwargs={'usage': {'prompt_tokens': 236, 'completion_tokens': 131, 'cache_read_input_tokens': 0, 'cache_write_input_tokens': 0, 'total_tokens': 367}, 'stop_reason': 'tool_use', 'thinking': {}, 'model_id': 'anthropic.claude-3-sonnet-20240229-v1:0', 'model_name': 'anthropic.claude-3-sonnet-20240229-v1:0'}, response_metadata={'usage': {'prompt_tokens': 236, 'completion_tokens': 131, 'cache_read_input_tokens': 0, 'cache_write_input_tokens': 0, 'total_tokens': 367}, 'stop_reason': 'tool_use', 'thinking': {}, 'model_id': 'anthropic.claude-3-sonnet-20240229-v1:0', 'model_name': 'anthropic.claude-3-sonnet-20240229-v1:0'}, id='run--25628b07-e4ed-4d1f-a091-e22887907ade-0', tool_calls=[{'name': 'get_weather', 'args': {'location': 'Seoul'}, 'id': 'toolu_bdrk_01HKxwvKy6G7rAaF2QjWyJWM', 'type': 'tool_call'}], usage_metadata={'input_tokens': 236, 'output_tokens': 131, 'total_tokens': 367, 'input_token_details': {'cache_creation': 0, 'cache_read': 0}}),\n",
       "  ToolMessage(content='기온은 섭씨 30도이고 화창합니다.', name='get_weather', id='2578952a-6b42-47d5-8574-a0edaf7fc9cb', tool_call_id='toolu_bdrk_01HKxwvKy6G7rAaF2QjWyJWM'),\n",
       "  AIMessage(content='예를 들어 서울에 대해서는 고궁과 한강, 남산타워 등 유명한 관광명소가 많습니다. 특정 도시를 말씀해주시면 그 곳에 대한 세부정보를 제공해드리겠습니다.', additional_kwargs={'usage': {'prompt_tokens': 397, 'completion_tokens': 92, 'cache_read_input_tokens': 0, 'cache_write_input_tokens': 0, 'total_tokens': 489}, 'stop_reason': 'end_turn', 'thinking': {}, 'model_id': 'anthropic.claude-3-sonnet-20240229-v1:0', 'model_name': 'anthropic.claude-3-sonnet-20240229-v1:0'}, response_metadata={'usage': {'prompt_tokens': 397, 'completion_tokens': 92, 'cache_read_input_tokens': 0, 'cache_write_input_tokens': 0, 'total_tokens': 489}, 'stop_reason': 'end_turn', 'thinking': {}, 'model_id': 'anthropic.claude-3-sonnet-20240229-v1:0', 'model_name': 'anthropic.claude-3-sonnet-20240229-v1:0'}, id='run--8fdd106f-5dfc-4e46-8285-d5f7c6d0b9d3-0', usage_metadata={'input_tokens': 397, 'output_tokens': 92, 'total_tokens': 489, 'input_token_details': {'cache_creation': 0, 'cache_read': 0}})]}"
      ]
     },
     "execution_count": 26,
     "metadata": {},
     "output_type": "execute_result"
    }
   ],
   "source": [
    "graph.invoke(\n",
    "    {\n",
    "        \"messages\": [\n",
    "            HumanMessage(content=\"그 도시는 어떤게 유명해?\")\n",
    "        ]\n",
    "    }\n",
    ")"
   ]
  },
  {
   "cell_type": "markdown",
   "metadata": {},
   "source": [
    "### Add Memory to chatbot"
   ]
  },
  {
   "cell_type": "code",
   "execution_count": 27,
   "metadata": {
    "execution": {
     "iopub.execute_input": "2025-06-14T13:34:15.656347Z",
     "iopub.status.busy": "2025-06-14T13:34:15.655986Z",
     "iopub.status.idle": "2025-06-14T13:34:15.662860Z",
     "shell.execute_reply": "2025-06-14T13:34:15.661964Z",
     "shell.execute_reply.started": "2025-06-14T13:34:15.656322Z"
    }
   },
   "outputs": [],
   "source": [
    "from langgraph.checkpoint.memory import MemorySaver\n",
    "\n",
    "checkpointer = MemorySaver()"
   ]
  },
  {
   "cell_type": "code",
   "execution_count": null,
   "metadata": {
    "execution": {
     "iopub.execute_input": "2025-06-14T13:34:33.149689Z",
     "iopub.status.busy": "2025-06-14T13:34:33.149078Z",
     "iopub.status.idle": "2025-06-14T13:34:33.155889Z",
     "shell.execute_reply": "2025-06-14T13:34:33.155099Z",
     "shell.execute_reply.started": "2025-06-14T13:34:33.149662Z"
    }
   },
   "outputs": [],
   "source": [
    "workflow = StateGraph(MessagesState)\n",
    "\n",
    "workflow.add_node(\"agent\", call_model)\n",
    "workflow.add_node(\"tools\", tool_node)\n",
    "\n",
    "workflow.add_edge(START, \"agent\")\n",
    "workflow.add_conditional_edges(\n",
    "    \"agent\",\n",
    "    should_continue,\n",
    ")\n",
    "workflow.add_edge(\"tools\", \"agent\")\n",
    "\n",
    "graph = workflow.compile(checkpointer=checkpointer)"
   ]
  },
  {
   "cell_type": "code",
   "execution_count": 29,
   "metadata": {
    "execution": {
     "iopub.execute_input": "2025-06-14T13:34:45.154402Z",
     "iopub.status.busy": "2025-06-14T13:34:45.154118Z",
     "iopub.status.idle": "2025-06-14T13:34:48.926295Z",
     "shell.execute_reply": "2025-06-14T13:34:48.925558Z",
     "shell.execute_reply.started": "2025-06-14T13:34:45.154380Z"
    }
   },
   "outputs": [
    {
     "data": {
      "text/plain": [
       "{'messages': [HumanMessage(content='서울의 날씨는 어때?', additional_kwargs={}, response_metadata={}, id='7142ebed-090c-48a1-a6b2-13e6261681ac'),\n",
       "  AIMessage(content='알겠습니다. 서울 지역의 현재 날씨 정보를 가져오기 위해 툴을 호출하겠습니다.', additional_kwargs={'usage': {'prompt_tokens': 233, 'completion_tokens': 103, 'cache_read_input_tokens': 0, 'cache_write_input_tokens': 0, 'total_tokens': 336}, 'stop_reason': 'tool_use', 'thinking': {}, 'model_id': 'anthropic.claude-3-sonnet-20240229-v1:0', 'model_name': 'anthropic.claude-3-sonnet-20240229-v1:0'}, response_metadata={'usage': {'prompt_tokens': 233, 'completion_tokens': 103, 'cache_read_input_tokens': 0, 'cache_write_input_tokens': 0, 'total_tokens': 336}, 'stop_reason': 'tool_use', 'thinking': {}, 'model_id': 'anthropic.claude-3-sonnet-20240229-v1:0', 'model_name': 'anthropic.claude-3-sonnet-20240229-v1:0'}, id='run--26019c91-19b9-444f-9702-270567eb1e97-0', tool_calls=[{'name': 'get_weather', 'args': {'location': '서울'}, 'id': 'toolu_bdrk_0133L4VckwGWbz69jJkZuDSr', 'type': 'tool_call'}], usage_metadata={'input_tokens': 233, 'output_tokens': 103, 'total_tokens': 336, 'input_token_details': {'cache_creation': 0, 'cache_read': 0}}),\n",
       "  ToolMessage(content='기온은 섭씨 15도이고 흐립니다.', name='get_weather', id='75fd4280-6192-4a83-bdd1-d18adeed1bdb', tool_call_id='toolu_bdrk_0133L4VckwGWbz69jJkZuDSr'),\n",
       "  AIMessage(content='서울의 현재 날씨는 기온 15도로 흐린 편입니다. 외출하실 때는 겉옷을 가벼운 것으로 준비하시면 좋겠습니다.', additional_kwargs={'usage': {'prompt_tokens': 366, 'completion_tokens': 70, 'cache_read_input_tokens': 0, 'cache_write_input_tokens': 0, 'total_tokens': 436}, 'stop_reason': 'end_turn', 'thinking': {}, 'model_id': 'anthropic.claude-3-sonnet-20240229-v1:0', 'model_name': 'anthropic.claude-3-sonnet-20240229-v1:0'}, response_metadata={'usage': {'prompt_tokens': 366, 'completion_tokens': 70, 'cache_read_input_tokens': 0, 'cache_write_input_tokens': 0, 'total_tokens': 436}, 'stop_reason': 'end_turn', 'thinking': {}, 'model_id': 'anthropic.claude-3-sonnet-20240229-v1:0', 'model_name': 'anthropic.claude-3-sonnet-20240229-v1:0'}, id='run--7b6a00d0-83d9-4394-b345-32a2ffd959ce-0', usage_metadata={'input_tokens': 366, 'output_tokens': 70, 'total_tokens': 436, 'input_token_details': {'cache_creation': 0, 'cache_read': 0}})]}"
      ]
     },
     "execution_count": 29,
     "metadata": {},
     "output_type": "execute_result"
    }
   ],
   "source": [
    "graph.invoke(\n",
    "    {\"messages\": [HumanMessage(content=\"서울의 날씨는 어때?\")]},\n",
    "    config={\"configurable\": {\"thread_id\": 1}},\n",
    ")"
   ]
  },
  {
   "cell_type": "code",
   "execution_count": null,
   "metadata": {
    "execution": {
     "iopub.execute_input": "2025-06-14T13:35:06.560940Z",
     "iopub.status.busy": "2025-06-14T13:35:06.560106Z"
    }
   },
   "outputs": [],
   "source": [
    "graph.invoke(\n",
    "    {\n",
    "        \"messages\": [\n",
    "            HumanMessage(content=\"그 도시는 어떤게 유명해?\")\n",
    "        ]\n",
    "    },\n",
    "    config={\"configurable\": {\"thread_id\": 1}},\n",
    ")"
   ]
  },
  {
   "cell_type": "code",
   "execution_count": null,
   "metadata": {},
   "outputs": [],
   "source": []
  }
 ],
 "metadata": {
  "kernelspec": {
   "display_name": "base",
   "language": "python",
   "name": "python3"
  },
  "language_info": {
   "codemirror_mode": {
    "name": "ipython",
    "version": 3
   },
   "file_extension": ".py",
   "mimetype": "text/x-python",
   "name": "python",
   "nbconvert_exporter": "python",
   "pygments_lexer": "ipython3",
   "version": "3.12.7"
  }
 },
 "nbformat": 4,
 "nbformat_minor": 4
}

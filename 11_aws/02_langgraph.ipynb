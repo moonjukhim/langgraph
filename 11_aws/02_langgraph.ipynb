{
 "cells": [
  {
   "cell_type": "markdown",
   "metadata": {},
   "source": [
    "### 기본 개념: Nodes, Edges 와 State"
   ]
  },
  {
   "cell_type": "code",
   "execution_count": null,
   "metadata": {
    "execution": {
     "iopub.execute_input": "2025-09-29T07:35:59.247487Z",
     "iopub.status.busy": "2025-09-29T07:35:59.247193Z",
     "iopub.status.idle": "2025-09-29T07:36:05.733037Z",
     "shell.execute_reply": "2025-09-29T07:36:05.732282Z",
     "shell.execute_reply.started": "2025-09-29T07:35:59.247459Z"
    }
   },
   "outputs": [],
   "source": [
    "# git : git clone https://github.com/moonjukhim/langgraph.git\n",
    "\n",
    "%pip install -r requirements.txt"
   ]
  },
  {
   "cell_type": "code",
   "execution_count": null,
   "metadata": {
    "execution": {
     "iopub.execute_input": "2025-09-29T07:36:57.456404Z",
     "iopub.status.busy": "2025-09-29T07:36:57.456128Z",
     "iopub.status.idle": "2025-09-29T07:36:58.380161Z",
     "shell.execute_reply": "2025-09-29T07:36:58.379582Z",
     "shell.execute_reply.started": "2025-09-29T07:36:57.456380Z"
    }
   },
   "outputs": [],
   "source": [
    "from langgraph.graph import END, START, StateGraph\n",
    "from typing import TypedDict"
   ]
  },
  {
   "cell_type": "code",
   "execution_count": null,
   "metadata": {
    "execution": {
     "iopub.execute_input": "2025-09-29T07:37:05.062489Z",
     "iopub.status.busy": "2025-09-29T07:37:05.055157Z",
     "iopub.status.idle": "2025-09-29T07:37:05.100835Z",
     "shell.execute_reply": "2025-09-29T07:37:05.091702Z",
     "shell.execute_reply.started": "2025-09-29T07:37:05.062432Z"
    }
   },
   "outputs": [],
   "source": [
    "class InputState(TypedDict):\n",
    "    string_value: str\n",
    "    numeric_value: int\n",
    "\n",
    "\n",
    "def modify_state(input: InputState):\n",
    "    print(f\"Current value: {input}\")\n",
    "    return input\n"
   ]
  },
  {
   "cell_type": "code",
   "execution_count": null,
   "metadata": {
    "execution": {
     "iopub.execute_input": "2025-09-29T07:37:19.552706Z",
     "iopub.status.busy": "2025-09-29T07:37:19.552434Z",
     "iopub.status.idle": "2025-09-29T07:37:19.558349Z",
     "shell.execute_reply": "2025-09-29T07:37:19.557569Z",
     "shell.execute_reply.started": "2025-09-29T07:37:19.552684Z"
    }
   },
   "outputs": [],
   "source": [
    "graph = StateGraph(InputState)\n",
    "\n",
    "graph.add_node(\"branch_a\", modify_state)\n",
    "graph.add_node(\"branch_b\", modify_state)\n",
    "graph.add_edge(START, \"branch_a\")\n",
    "graph.add_edge(\"branch_a\", \"branch_b\")\n",
    "graph.add_edge(\"branch_b\", END)\n",
    "\n",
    "graph.set_entry_point(\"branch_a\")\n",
    "\n",
    "mygraph = graph.compile()"
   ]
  },
  {
   "cell_type": "markdown",
   "metadata": {},
   "source": [
    "### Visualize graph"
   ]
  },
  {
   "cell_type": "code",
   "execution_count": null,
   "metadata": {
    "execution": {
     "iopub.execute_input": "2025-09-29T07:37:24.148734Z",
     "iopub.status.busy": "2025-09-29T07:37:24.148452Z",
     "iopub.status.idle": "2025-09-29T07:37:24.353538Z",
     "shell.execute_reply": "2025-09-29T07:37:24.352768Z",
     "shell.execute_reply.started": "2025-09-29T07:37:24.148711Z"
    }
   },
   "outputs": [],
   "source": [
    "from IPython.display import Image, display\n",
    "from langchain_core.runnables.graph import MermaidDrawMethod\n",
    "\n",
    "display(\n",
    "    Image(\n",
    "        mygraph.get_graph().draw_mermaid_png(\n",
    "            draw_method=MermaidDrawMethod.API,\n",
    "        )\n",
    "    )\n",
    ")"
   ]
  },
  {
   "cell_type": "code",
   "execution_count": null,
   "metadata": {
    "execution": {
     "iopub.execute_input": "2025-09-29T07:37:34.000134Z",
     "iopub.status.busy": "2025-09-29T07:37:33.999648Z",
     "iopub.status.idle": "2025-09-29T07:37:34.013850Z",
     "shell.execute_reply": "2025-09-29T07:37:34.012981Z",
     "shell.execute_reply.started": "2025-09-29T07:37:33.999908Z"
    }
   },
   "outputs": [],
   "source": [
    "mygraph.invoke({\"string_value\": \"a\"})"
   ]
  },
  {
   "cell_type": "code",
   "execution_count": null,
   "metadata": {
    "execution": {
     "iopub.execute_input": "2025-09-29T07:37:40.448451Z",
     "iopub.status.busy": "2025-09-29T07:37:40.448187Z",
     "iopub.status.idle": "2025-09-29T07:37:40.454262Z",
     "shell.execute_reply": "2025-09-29T07:37:40.453408Z",
     "shell.execute_reply.started": "2025-09-29T07:37:40.448431Z"
    }
   },
   "outputs": [],
   "source": [
    "mygraph.invoke({\"string_value\": \"a\", \"numeric_value\": 1})"
   ]
  },
  {
   "cell_type": "code",
   "execution_count": null,
   "metadata": {
    "execution": {
     "iopub.execute_input": "2025-09-29T07:37:49.210675Z",
     "iopub.status.busy": "2025-09-29T07:37:49.210405Z",
     "iopub.status.idle": "2025-09-29T07:37:49.216339Z",
     "shell.execute_reply": "2025-09-29T07:37:49.215456Z",
     "shell.execute_reply.started": "2025-09-29T07:37:49.210652Z"
    }
   },
   "outputs": [],
   "source": [
    "def modify_state(input: InputState):\n",
    "    input[\"string_value\"] += \"a\"\n",
    "    input[\"numeric_value\"] += 1\n",
    "    return input\n",
    "\n",
    "\n",
    "graph = StateGraph(InputState)\n",
    "\n",
    "graph.add_node(\"branch_a\", modify_state)\n",
    "graph.add_node(\"branch_b\", modify_state)\n",
    "graph.add_edge(\"branch_a\", \"branch_b\")\n",
    "graph.add_edge(\"branch_b\", END)\n",
    "\n",
    "\n",
    "graph.set_entry_point(\"branch_a\")\n",
    "\n",
    "mygraph = graph.compile()"
   ]
  },
  {
   "cell_type": "code",
   "execution_count": null,
   "metadata": {},
   "outputs": [],
   "source": [
    "# try:\n",
    "#    mygraph.invoke({\"string_value\": \"a\"})\n",
    "# except KeyError as e:\n",
    "#    print(e)"
   ]
  },
  {
   "cell_type": "code",
   "execution_count": null,
   "metadata": {
    "execution": {
     "iopub.execute_input": "2025-09-29T07:38:09.246141Z",
     "iopub.status.busy": "2025-09-29T07:38:09.245670Z",
     "iopub.status.idle": "2025-09-29T07:38:09.253384Z",
     "shell.execute_reply": "2025-09-29T07:38:09.252592Z",
     "shell.execute_reply.started": "2025-09-29T07:38:09.246112Z"
    }
   },
   "outputs": [],
   "source": [
    "mygraph.invoke({\"string_value\": \"a\", \"numeric_value\": 1})"
   ]
  },
  {
   "cell_type": "markdown",
   "metadata": {},
   "source": [
    "### LangChain(LCEL) Vs. LangGraph"
   ]
  },
  {
   "cell_type": "code",
   "execution_count": null,
   "metadata": {
    "execution": {
     "iopub.execute_input": "2025-09-29T07:38:15.523178Z",
     "iopub.status.busy": "2025-09-29T07:38:15.522880Z",
     "iopub.status.idle": "2025-09-29T07:38:15.533793Z",
     "shell.execute_reply": "2025-09-29T07:38:15.533123Z",
     "shell.execute_reply.started": "2025-09-29T07:38:15.523152Z"
    }
   },
   "outputs": [],
   "source": [
    "from langchain_core.runnables import RunnableLambda\n",
    "\n",
    "runnable = RunnableLambda(modify_state)\n",
    "chain = runnable | runnable\n",
    "\n",
    "chain.invoke({\"string_value\": \"a\", \"numeric_value\": 1})"
   ]
  },
  {
   "cell_type": "markdown",
   "metadata": {},
   "source": [
    "### Cycles and Conditional Edges"
   ]
  },
  {
   "cell_type": "code",
   "execution_count": null,
   "metadata": {
    "execution": {
     "iopub.execute_input": "2025-09-29T07:38:36.469683Z",
     "iopub.status.busy": "2025-09-29T07:38:36.469417Z",
     "iopub.status.idle": "2025-09-29T07:38:36.476266Z",
     "shell.execute_reply": "2025-09-29T07:38:36.475449Z",
     "shell.execute_reply.started": "2025-09-29T07:38:36.469660Z"
    }
   },
   "outputs": [],
   "source": [
    "def modify_state(input: InputState):\n",
    "    input[\"string_value\"] += \"a\"\n",
    "    input[\"numeric_value\"] += 1\n",
    "    return input\n",
    "\n",
    "\n",
    "def router(input: InputState):\n",
    "    if input[\"numeric_value\"] < 5:\n",
    "        return \"branch_a\"\n",
    "    else:\n",
    "        return \"__end__\"\n",
    "\n",
    "\n",
    "graph = StateGraph(InputState)\n",
    "\n",
    "graph.add_node(\"branch_a\", modify_state)\n",
    "graph.add_node(\"branch_b\", modify_state)\n",
    "graph.add_edge(\"branch_a\", \"branch_b\")\n",
    "graph.add_conditional_edges(\n",
    "    \"branch_b\", router, {\"branch_a\": \"branch_a\", \"__end__\": END}\n",
    ")\n",
    "\n",
    "graph.set_entry_point(\"branch_a\")\n",
    "\n",
    "mygraph = graph.compile() \n"
   ]
  },
  {
   "cell_type": "code",
   "execution_count": null,
   "metadata": {
    "execution": {
     "iopub.execute_input": "2025-09-29T07:38:40.143841Z",
     "iopub.status.busy": "2025-09-29T07:38:40.143543Z",
     "iopub.status.idle": "2025-09-29T07:38:41.495753Z",
     "shell.execute_reply": "2025-09-29T07:38:41.494397Z",
     "shell.execute_reply.started": "2025-09-29T07:38:40.143817Z"
    }
   },
   "outputs": [],
   "source": [
    "from IPython.display import Image, display\n",
    "from langchain_core.runnables.graph import MermaidDrawMethod\n",
    "\n",
    "display(\n",
    "    Image(\n",
    "        mygraph.get_graph().draw_mermaid_png(\n",
    "            draw_method=MermaidDrawMethod.API,\n",
    "        )\n",
    "    )\n",
    ")"
   ]
  },
  {
   "cell_type": "code",
   "execution_count": null,
   "metadata": {
    "execution": {
     "iopub.execute_input": "2025-09-29T07:38:53.055421Z",
     "iopub.status.busy": "2025-09-29T07:38:53.055143Z",
     "iopub.status.idle": "2025-09-29T07:38:53.063124Z",
     "shell.execute_reply": "2025-09-29T07:38:53.062382Z",
     "shell.execute_reply.started": "2025-09-29T07:38:53.055399Z"
    }
   },
   "outputs": [],
   "source": [
    "mygraph.invoke({\"string_value\": \"a\", \"numeric_value\": 1})"
   ]
  },
  {
   "cell_type": "code",
   "execution_count": null,
   "metadata": {},
   "outputs": [],
   "source": []
  }
 ],
 "metadata": {
  "kernelspec": {
   "display_name": "Python 3 (ipykernel)",
   "language": "python",
   "name": "python3"
  },
  "language_info": {
   "codemirror_mode": {
    "name": "ipython",
    "version": 3
   },
   "file_extension": ".py",
   "mimetype": "text/x-python",
   "name": "python",
   "nbconvert_exporter": "python",
   "pygments_lexer": "ipython3",
   "version": "3.12.9"
  }
 },
 "nbformat": 4,
 "nbformat_minor": 4
}

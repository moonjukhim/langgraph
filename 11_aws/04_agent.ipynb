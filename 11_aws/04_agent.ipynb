{
 "cells": [
  {
   "cell_type": "markdown",
   "id": "40990fac",
   "metadata": {},
   "source": [
    "## 에이전트 노트북 실행\n",
    "\n",
    "### 시나리오 컨텍스트\n"
   ]
  },
  {
   "cell_type": "markdown",
   "id": "f456a6ba",
   "metadata": {},
   "source": [
    "# !Cloud9에서 agent 코드 실행"
   ]
  },
  {
   "cell_type": "markdown",
   "id": "b47b6c6a",
   "metadata": {},
   "source": [
    "#### Deprecated\n",
    "~### 태스크 1.1: Boto3 설치 및 필수 Python 라이브러리 가져오기~"
   ]
  },
  {
   "cell_type": "code",
   "execution_count": null,
   "id": "b2093e8e-f440-4d34-a5fb-1d431c1c0093",
   "metadata": {
    "execution": {
     "iopub.execute_input": "2025-09-29T12:51:05.349050Z",
     "iopub.status.busy": "2025-09-29T12:51:05.347981Z",
     "iopub.status.idle": "2025-09-29T12:51:05.681603Z",
     "shell.execute_reply": "2025-09-29T12:51:05.680887Z",
     "shell.execute_reply.started": "2025-09-29T12:51:05.349013Z"
    }
   },
   "outputs": [],
   "source": [
    "%pip install -r requirements.txt"
   ]
  },
  {
   "cell_type": "code",
   "execution_count": 2,
   "id": "e27bfdf8-dfc8-4b76-8eda-42085f47c5e3",
   "metadata": {
    "execution": {
     "iopub.execute_input": "2025-09-29T12:51:13.976821Z",
     "iopub.status.busy": "2025-09-29T12:51:13.976475Z",
     "iopub.status.idle": "2025-09-29T12:51:13.980723Z",
     "shell.execute_reply": "2025-09-29T12:51:13.979805Z",
     "shell.execute_reply.started": "2025-09-29T12:51:13.976795Z"
    }
   },
   "outputs": [],
   "source": [
    "from botocore.exceptions import ClientError"
   ]
  },
  {
   "cell_type": "markdown",
   "id": "a5956c34",
   "metadata": {},
   "source": [
    "### 태스크 1.2: Boto3 객체 및 도우미 함수 구성 "
   ]
  },
  {
   "cell_type": "code",
   "execution_count": 3,
   "id": "aca6276d-9061-4f09-bd81-4ee61a013308",
   "metadata": {
    "execution": {
     "iopub.execute_input": "2025-09-29T12:51:48.735402Z",
     "iopub.status.busy": "2025-09-29T12:51:48.735134Z",
     "iopub.status.idle": "2025-09-29T12:51:49.036503Z",
     "shell.execute_reply": "2025-09-29T12:51:49.035806Z",
     "shell.execute_reply.started": "2025-09-29T12:51:48.735380Z"
    }
   },
   "outputs": [],
   "source": [
    "s3_client = boto3.client('s3')\n",
    "sts_client = boto3.client('sts')\n",
    "session = boto3.session.Session()\n",
    "region = session.region_name\n",
    "account_id = sts_client.get_caller_identity()[\"Account\"]\n",
    "bedrock_agent_client = boto3.client('bedrock-agent')\n",
    "bedrock_agent_runtime_client = boto3.client('bedrock-agent-runtime')\n",
    "logging.basicConfig(format='[%(asctime)s] p%(process)s {%(filename)s:%(lineno)d} %(levelname)s - %(message)s', level=logging.INFO)\n",
    "logger = logging.getLogger(__name__)"
   ]
  },
  {
   "cell_type": "markdown",
   "id": "9bb1724c-f715-4227-95a3-9f0313f9f973",
   "metadata": {},
   "source": [
    "에이전트 이름으로 에이전트 ID를 찾는 데 사용할 도우미 함수를 설정합니다."
   ]
  },
  {
   "cell_type": "code",
   "execution_count": 4,
   "id": "1e459796-5319-499a-b5ed-7d69812c98fd",
   "metadata": {
    "execution": {
     "iopub.execute_input": "2025-09-29T12:52:04.019065Z",
     "iopub.status.busy": "2025-09-29T12:52:04.018385Z",
     "iopub.status.idle": "2025-09-29T12:52:04.033287Z",
     "shell.execute_reply": "2025-09-29T12:52:04.030935Z",
     "shell.execute_reply.started": "2025-09-29T12:52:04.019037Z"
    }
   },
   "outputs": [],
   "source": [
    "def find_agent_id_by_agent_name(client, agent_name):\n",
    "    try:\n",
    "        response = client.list_agents()\n",
    "        agents = response.get('agentSummaries', [])\n",
    "    except ClientError as e:\n",
    "        print(f\"Error listing agents: {e}\")\n",
    "        return []\n",
    "    agent_id = ''\n",
    "    for agent in agents:\n",
    "        if agent['agentName'] == agent_name:\n",
    "            agent_id = agent['agentId']\n",
    "    return agent_id"
   ]
  },
  {
   "cell_type": "code",
   "execution_count": 5,
   "id": "91acff5f-0426-4f0c-bf69-2903cf587979",
   "metadata": {
    "execution": {
     "iopub.execute_input": "2025-09-29T12:52:12.372184Z",
     "iopub.status.busy": "2025-09-29T12:52:12.371913Z",
     "iopub.status.idle": "2025-09-29T12:52:12.626444Z",
     "shell.execute_reply": "2025-09-29T12:52:12.625710Z",
     "shell.execute_reply.started": "2025-09-29T12:52:12.372164Z"
    }
   },
   "outputs": [
    {
     "name": "stdout",
     "output_type": "stream",
     "text": [
      "Using agent alias ID: TSTALIASID\n"
     ]
    }
   ],
   "source": [
    "# Invoke the helper function to find agent IDs\n",
    "agent_id = find_agent_id_by_agent_name(bedrock_agent_client, 'shopping-assistant')\n",
    "agent_id_with_guardrail = find_agent_id_by_agent_name(bedrock_agent_client, 'shopping-assistant-with-guardrails')\n",
    "\n",
    "# Get the agent alias ID\n",
    "try:\n",
    "    # Try to get the alias ID for the shopping-assistant agent\n",
    "    response = bedrock_agent_client.list_agent_aliases(agentId=agent_id)\n",
    "    if response.get('agentAliasSummaries'):\n",
    "        alias_id = response['agentAliasSummaries'][0]['agentAliasId']\n",
    "    else:\n",
    "        # If no alias found for shopping-assistant, try with the guardrail agent\n",
    "        response = bedrock_agent_client.list_agent_aliases(agentId=agent_id_with_guardrail)\n",
    "        if response.get('agentAliasSummaries'):\n",
    "            alias_id = response['agentAliasSummaries'][0]['agentAliasId']\n",
    "        else:\n",
    "            # Default fallback if no aliases found\n",
    "            alias_id = \"DRAFT\"\n",
    "except Exception as e:\n",
    "    print(f\"Error getting agent alias: {e}\")\n",
    "    # Use DRAFT as fallback - this is a common default alias name in Bedrock\n",
    "    alias_id = \"DRAFT\"\n",
    "\n",
    "print(f\"Using agent alias ID: {alias_id}\")\n",
    "\n",
    "# the below s3 bucket will be used internally to store logs for bedrock\n",
    "bedrock_logging_bucket=\"bedrock-logging-\"+region+\"-\"+account_id\n",
    "recent_bedrock_log_file_copy='recent_bedrock_log_file_copy'"
   ]
  },
  {
   "cell_type": "markdown",
   "id": "80703e51",
   "metadata": {},
   "source": [
    "Bedrock 에이전트를 간접적으로 호출하고 메모리를 캡처하는 데 사용할 도우미 함수를 생성합니다."
   ]
  },
  {
   "cell_type": "code",
   "execution_count": 6,
   "id": "157b8560-cc6d-4e0a-b0fb-e424a67e22cb",
   "metadata": {
    "execution": {
     "iopub.execute_input": "2025-09-29T12:52:40.347801Z",
     "iopub.status.busy": "2025-09-29T12:52:40.347511Z",
     "iopub.status.idle": "2025-09-29T12:52:40.355487Z",
     "shell.execute_reply": "2025-09-29T12:52:40.354361Z",
     "shell.execute_reply.started": "2025-09-29T12:52:40.347780Z"
    }
   },
   "outputs": [],
   "source": [
    "def invokeAgent(query, session_id, memory_id, agent_id, enable_trace=False, session_state=dict(), end_session=False):\n",
    "    \n",
    "    if memory_id == \"\":\n",
    "        agentResponse = bedrock_agent_runtime_client.invoke_agent(\n",
    "            inputText=query,\n",
    "            agentId=agent_id,\n",
    "            agentAliasId=alias_id, \n",
    "            sessionId=session_id,\n",
    "            enableTrace=enable_trace, \n",
    "            endSession= end_session,\n",
    "            sessionState=session_state\n",
    "        )\n",
    "    else:\n",
    "    # invoke the agent API\n",
    "        agentResponse = bedrock_agent_runtime_client.invoke_agent(\n",
    "            inputText=query,\n",
    "            agentId=agent_id,\n",
    "            agentAliasId=alias_id, \n",
    "            memoryId=memory_id,\n",
    "            sessionId=session_id,\n",
    "            enableTrace=enable_trace, \n",
    "            endSession= end_session,\n",
    "            sessionState=session_state\n",
    "        )\n",
    "    \n",
    "    if enable_trace:\n",
    "        # Create a safe copy of the response for logging, handling datetime objects\n",
    "        try:\n",
    "            # Log only the metadata, not the event stream\n",
    "            safe_response = {k: str(v) for k, v in agentResponse.items() if k != 'completion'}\n",
    "            logger.info(f\"Agent response metadata: {safe_response}\")\n",
    "        except Exception as e:\n",
    "            logger.info(f\"Could not print full response due to: {str(e)}\")\n",
    "    \n",
    "    event_stream = agentResponse['completion']\n",
    "    try:\n",
    "        for event in event_stream:        \n",
    "            if 'chunk' in event:\n",
    "                data = event['chunk']['bytes']\n",
    "                if enable_trace:\n",
    "                    logger.info(f\"Final answer ->\\n{data.decode('utf8')}\")\n",
    "                agent_answer = data.decode('utf8')\n",
    "                end_event_received = True\n",
    "                return agent_answer\n",
    "                # End event indicates that the request finished successfully\n",
    "            elif 'trace' in event:\n",
    "                if enable_trace:\n",
    "                    # Handle potential datetime objects in trace\n",
    "                    try:\n",
    "                        trace_str = json.dumps(event['trace'], default=lambda o: str(o), indent=2)\n",
    "                        logger.info(trace_str)\n",
    "                    except Exception as e:\n",
    "                        logger.info(f\"Could not print trace due to: {str(e)}\")\n",
    "                        logger.info(str(event['trace']))\n",
    "            else:\n",
    "                raise Exception(\"unexpected event.\", event)\n",
    "    except Exception as e:\n",
    "        if str(e).find(\"throttlingException\"): \n",
    "            print(\"\\033[1mThrottlingException:\\033[;7m\\nA throttling error occurred when calling the InvokeAgent operation. Please wait up to 60 seconds and retry this cell.\\n\\033[0m\")"
   ]
  },
  {
   "cell_type": "markdown",
   "id": "3766b3b2",
   "metadata": {},
   "source": [
    "### 태스크 1.3: 가드레일을 사용하지 않고 Bedrock 에이전트와 상호 작용  "
   ]
  },
  {
   "cell_type": "markdown",
   "id": "7fd20005",
   "metadata": {},
   "source": [
    "Bedrock 에이전트와 상호 작용 및 채팅을 할 때는 다음의 2가지 구성 요소를 사용하여 상태를 유지할 수 있습니다.\n",
    "\n",
    "**session_id** : 여러 가지 질문을 하는 에이전트와의 대화를 나타냅니다. 특정 에이전트와 같은 대화를 계속 진행하려는 경우 요청에서 같은 session_id 값을 사용.  \n",
    "\n",
    "**memory_id** : 각 사용자의 대화 기록과 컨텍스트가 안전하게 저장되는 위치.  "
   ]
  },
  {
   "cell_type": "code",
   "execution_count": 7,
   "id": "164cd4c6",
   "metadata": {
    "execution": {
     "iopub.execute_input": "2025-09-29T12:53:39.427484Z",
     "iopub.status.busy": "2025-09-29T12:53:39.427198Z",
     "iopub.status.idle": "2025-09-29T12:53:39.431704Z",
     "shell.execute_reply": "2025-09-29T12:53:39.430873Z",
     "shell.execute_reply.started": "2025-09-29T12:53:39.427460Z"
    }
   },
   "outputs": [
    {
     "name": "stdout",
     "output_type": "stream",
     "text": [
      "Session id=2bd3599d-9be7-47bb-a39d-f7e4963bdce5\n",
      "Memory id=be5ef40a-b69f-4e03-98dd-b6843c8896b1\n"
     ]
    }
   ],
   "source": [
    "session_id:str = str(uuid.uuid4())\n",
    "print(\"Session id=\"+session_id)\n",
    "memory_id_1:str = str(uuid.uuid4())\n",
    "print(\"Memory id=\"+memory_id_1)"
   ]
  },
  {
   "cell_type": "code",
   "execution_count": 8,
   "id": "8b3ab1c5",
   "metadata": {
    "execution": {
     "iopub.execute_input": "2025-09-29T12:54:16.450723Z",
     "iopub.status.busy": "2025-09-29T12:54:16.450305Z",
     "iopub.status.idle": "2025-09-29T12:54:24.699775Z",
     "shell.execute_reply": "2025-09-29T12:54:24.699057Z",
     "shell.execute_reply.started": "2025-09-29T12:54:16.450691Z"
    }
   },
   "outputs": [
    {
     "name": "stdout",
     "output_type": "stream",
     "text": [
      "\u001b[1mQuestion:\u001b[0m 안녕하세요, 귀사의 제품에 관심이 있습니다. 귀사가 판매하는 제품은 누가 제조하나요?\n",
      "\n",
      "\u001b[1mResponse:\u001b[0m 안녕하세요! 저희 회사의 제품은 주로 두 개의 제조사에서 생산됩니다:\n",
      "\n",
      "1. AnyCompany Outdoor Power Equipment: 이 제조사는 다음 제품들을 생산합니다:\n",
      "- 스트링 트리머\n",
      "- 헤지 트리머\n",
      "- 리프 블로워\n",
      "\n",
      "2. AnyCompany LawnCare Solutions: 이 제조사는 다음 제품들을 생산합니다:\n",
      "- 라이딩 잔디깎기 기계\n",
      "- 에어레이터\n",
      "\n",
      "모든 제품은 배터리 작동 또는 가스 엔진 방식으로, 정원 관리에 도움을 주는 다양한 장비들입니다.\n",
      "\n"
     ]
    }
   ],
   "source": [
    "q=\"안녕하세요, 귀사의 제품에 관심이 있습니다. 귀사가 판매하는 제품은 누가 제조하나요?\"\n",
    "print(\"\\033[1mQuestion:\\033[0m \"+q+\"\\n\")\n",
    "try: \n",
    "    response = invokeAgent(q, session_id,memory_id_1, agent_id)\n",
    "    print(\"\\033[1mResponse:\\033[0m \"+response+\"\\n\")\n",
    "except Exception as e:\n",
    "    print(f\"Error: {str(e)}\")"
   ]
  },
  {
   "cell_type": "markdown",
   "id": "657088f3",
   "metadata": {},
   "source": [
    "계속해서 제품 관련 질문을 합니다. 각 질문을 실행한 다음 응답을 검토합니다. "
   ]
  },
  {
   "cell_type": "code",
   "execution_count": 9,
   "id": "fad480d5",
   "metadata": {
    "execution": {
     "iopub.execute_input": "2025-09-29T12:54:55.204228Z",
     "iopub.status.busy": "2025-09-29T12:54:55.203889Z",
     "iopub.status.idle": "2025-09-29T12:55:03.813162Z",
     "shell.execute_reply": "2025-09-29T12:55:03.812381Z",
     "shell.execute_reply.started": "2025-09-29T12:54:55.204203Z"
    }
   },
   "outputs": [
    {
     "name": "stdout",
     "output_type": "stream",
     "text": [
      "\u001b[1mQuestion:\u001b[0m 비용은 얼마입니까?\n",
      "\n",
      "\u001b[1mResponse:\u001b[0m 다음은 각 제품의 가격입니다:\n",
      "\n",
      "AnyCompany Outdoor Power Equipment 제품:\n",
      "- 스트링 트리머 (P001): $50\n",
      "- 헤지 트리머 (P002): $60\n",
      "- 리프 블로워 (P003): $70\n",
      "\n",
      "AnyCompany LawnCare Solutions 제품:\n",
      "- 라이딩 잔디깎기 기계 (Y001): $1,200\n",
      "- 에어레이터 (Y002): $800\n",
      "\n",
      "제품마다 가격대가 다양하니, 원하시는 제품의 예산과 용도를 고려해 선택하시기 바랍니다.\n",
      "\n"
     ]
    }
   ],
   "source": [
    "q=\"비용은 얼마입니까?\"\n",
    "print(\"\\033[1mQuestion:\\033[0m \"+q+\"\\n\")\n",
    "try: \n",
    "    response = invokeAgent(q, session_id,memory_id_1, agent_id)\n",
    "    print(\"\\033[1mResponse:\\033[0m \"+response+\"\\n\")\n",
    "except Exception as e:\n",
    "    print(f\"Error: {str(e)}\")"
   ]
  },
  {
   "cell_type": "markdown",
   "id": "bb54bdc3",
   "metadata": {},
   "source": [
    "수학 계산을 사용하라는 메시지가 에이전트에게 전달되도록, 다른 질문을 합니다. "
   ]
  },
  {
   "cell_type": "code",
   "execution_count": 10,
   "id": "2ab08cf9",
   "metadata": {
    "execution": {
     "iopub.execute_input": "2025-09-29T12:55:25.810903Z",
     "iopub.status.busy": "2025-09-29T12:55:25.810633Z",
     "iopub.status.idle": "2025-09-29T12:55:31.039830Z",
     "shell.execute_reply": "2025-09-29T12:55:31.039049Z",
     "shell.execute_reply.started": "2025-09-29T12:55:25.810884Z"
    }
   },
   "outputs": [
    {
     "name": "stdout",
     "output_type": "stream",
     "text": [
      "\u001b[1mQuestion:\u001b[0m 스트링 트리머 2개 구매시 비용은 얼마인가요?\n",
      "\n",
      "\u001b[1mResponse:\u001b[0m 스트링 트리머 2개의 총 비용은 $100입니다. 각 스트링 트리머의 가격이 $50이므로, 2개를 구매하면 $50 × 2 = $100가 됩니다.\n",
      "\n"
     ]
    }
   ],
   "source": [
    "q=\"스트링 트리머 2개 구매시 비용은 얼마인가요?\"\n",
    "print(\"\\033[1mQuestion:\\033[0m \"+q+\"\\n\")\n",
    "try: \n",
    "    response = invokeAgent(q, session_id,memory_id_1, agent_id)\n",
    "    print(\"\\033[1mResponse:\\033[0m \"+response+\"\\n\")\n",
    "except Exception as e:\n",
    "    print(f\"Error: {str(e)}\")"
   ]
  }
 ],
 "metadata": {
  "kernelspec": {
   "display_name": "Python 3 (ipykernel)",
   "language": "python",
   "name": "python3"
  },
  "language_info": {
   "codemirror_mode": {
    "name": "ipython",
    "version": 3
   },
   "file_extension": ".py",
   "mimetype": "text/x-python",
   "name": "python",
   "nbconvert_exporter": "python",
   "pygments_lexer": "ipython3",
   "version": "3.12.9"
  }
 },
 "nbformat": 4,
 "nbformat_minor": 5
}

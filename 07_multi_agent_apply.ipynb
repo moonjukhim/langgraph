{
 "cells": [
  {
   "cell_type": "code",
   "execution_count": 1,
   "metadata": {},
   "outputs": [
    {
     "data": {
      "text/plain": [
       "True"
      ]
     },
     "execution_count": 1,
     "metadata": {},
     "output_type": "execute_result"
    }
   ],
   "source": [
    "from dotenv import load_dotenv\n",
    "\n",
    "load_dotenv()"
   ]
  },
  {
   "cell_type": "code",
   "execution_count": null,
   "metadata": {},
   "outputs": [],
   "source": [
    "from typing import TypedDict, Literal, Annotated, List\n",
    "from operator import add\n",
    "from langchain_core.messages import HumanMessage, SystemMessage, BaseMessage\n",
    "from langgraph.graph import END, START, StateGraph\n",
    "from langgraph.prebuilt import ToolNode\n",
    "from langchain_openai import ChatOpenAI\n",
    "from langchain_core.tools import tool\n",
    "\n",
    "\n",
    "class InputState(TypedDict):\n",
    "    article: str\n",
    "\n",
    "class OutputState(TypedDict):\n",
    "    agent_output: str\n",
    "\n",
    "class OverallState(InputState, OutputState):\n",
    "    messages: Annotated[List[BaseMessage], add]\n",
    "\n",
    "# 도구 정의: 국가별 GDP 조회\n",
    "@tool\n",
    "def get_gdp(country_name: str) -> str:\n",
    "    \"\"\"Fetch the latest GDP for a given country (simulated).\"\"\"\n",
    "    fake_gdp_data = {\n",
    "        \"United States\": \"26.7 trillion USD\",\n",
    "        \"South Korea\": \"1.8 trillion USD\",\n",
    "        \"Japan\": \"4.2 trillion USD\",\n",
    "    }\n",
    "    return fake_gdp_data.get(country_name, \"GDP data not available.\")\n",
    "\n",
    "# 🔗 도구 바인딩\n",
    "tools = [get_gdp]\n",
    "model = ChatOpenAI(model=\"gpt-4o-mini\").bind_tools(tools)\n",
    "\n",
    "# 🧠 LLM 호출 노드\n",
    "def call_model_gdp_info(state: OverallState):\n",
    "    local_messages = state.get(\"messages\", [])\n",
    "    if not local_messages:\n",
    "        human_message = HumanMessage(content=state[\"article\"])\n",
    "        local_messages.append(human_message)\n",
    "\n",
    "    system_message = SystemMessage(\n",
    "        content=\"\"\"You are an economic research agent tasked with identifying the latest GDP of a country.\n",
    "                If GDP data is missing, call the appropriate tool to retrieve it. \n",
    "                Provide a clear and concise summary.\"\"\"\n",
    "    )\n",
    "\n",
    "    response = model.invoke([system_message] + local_messages)\n",
    "    state[\"agent_output\"] = response.content\n",
    "    state[\"messages\"] = local_messages + [response]\n",
    "    return state\n",
    "\n",
    "# 🔁 조건 분기 (tool 호출 여부 판단)\n",
    "def should_continue(state: OverallState) -> Literal[\"tools\", END]:\n",
    "    last_message = state[\"messages\"][-1]\n",
    "    if getattr(last_message, \"tool_calls\", None):\n",
    "        return \"tools\"\n",
    "    return END\n",
    "\n",
    "# 🧭 LangGraph 구성\n",
    "gdp_graph = StateGraph(OverallState, input=InputState, output=OutputState)\n",
    "gdp_graph.add_node(\"call_model_gdp_info\", call_model_gdp_info)\n",
    "gdp_graph.add_node(\"tools\", ToolNode(tools))\n",
    "gdp_graph.add_edge(START, \"call_model_gdp_info\")\n",
    "gdp_graph.add_conditional_edges(\"call_model_gdp_info\", should_continue)\n",
    "gdp_graph.add_edge(\"tools\", \"call_model_gdp_info\")\n",
    "\n",
    "gdp_research_agent = gdp_graph.compile()\n"
   ]
  },
  {
   "cell_type": "code",
   "execution_count": 3,
   "metadata": {},
   "outputs": [
    {
     "name": "stdout",
     "output_type": "stream",
     "text": [
      "Agent Output:\n",
      " 대한민국의 현재 GDP는 약 1.8조 달러입니다.\n"
     ]
    }
   ],
   "source": [
    "initial_state = {\n",
    "    \"article\": \"대한민국의 현재 GDP에 대해 알려줘.\",\n",
    "}\n",
    "\n",
    "result = gdp_research_agent.invoke(initial_state)\n",
    "\n",
    "print(\"Agent Output:\\n\", result[\"agent_output\"])"
   ]
  },
  {
   "cell_type": "code",
   "execution_count": null,
   "metadata": {},
   "outputs": [
    {
     "data": {
      "text/plain": [
       "{'agent_output': '현재 대만의 GDP 데이터는 이용할 수 없습니다. 추가적인 정보가 필요하다면 다른 질문을 해주세요.'}"
      ]
     },
     "execution_count": 4,
     "metadata": {},
     "output_type": "execute_result"
    }
   ],
   "source": [
    "initial_state = {\n",
    "    \"article\": \"대만의 현재 GDP에 대해 알려줘.\",\n",
    "}\n",
    "\n",
    "gdp_research_agent.invoke(initial_state)"
   ]
  },
  {
   "cell_type": "code",
   "execution_count": 5,
   "metadata": {},
   "outputs": [],
   "source": [
    "from typing import TypedDict, Literal, Annotated, List\n",
    "from operator import add\n",
    "from langchain_core.messages import HumanMessage, SystemMessage, BaseMessage\n",
    "from langgraph.graph import END, START, StateGraph\n",
    "from langgraph.prebuilt import ToolNode\n",
    "from langchain_openai import ChatOpenAI\n",
    "from langchain_core.tools import tool\n",
    "\n",
    "\n",
    "class InputState(TypedDict):\n",
    "    article: str\n",
    "\n",
    "class OutputState(TypedDict):\n",
    "    agent_output: str\n",
    "\n",
    "class OverallState(InputState, OutputState):\n",
    "    messages: Annotated[List[BaseMessage], add]\n",
    "\n",
    "\n",
    "# 국가 환율 조회 도구\n",
    "@tool\n",
    "def get_exchange_rate(country_name: str):\n",
    "    \"\"\"Gets the current exchange rate of a country (to USD)\"\"\"\n",
    "    fake_exchange_db = {\n",
    "        \"South Korea\": \"1 USD = 1,350 KRW\",\n",
    "        \"Japan\": \"1 USD = 150 JPY\",\n",
    "        \"Eurozone\": \"1 USD = 0.92 EUR\",\n",
    "    }\n",
    "    return fake_exchange_db.get(country_name, \"Exchange rate information not available.\")\n",
    "\n",
    "# 도구 바인딩\n",
    "tools2 = [get_exchange_rate]\n",
    "model2 = ChatOpenAI(model=\"gpt-4o-mini\").bind_tools(tools2)\n",
    "\n",
    "# LLM 노드 정의\n",
    "def call_model_exchange_rate(state: OverallState):\n",
    "    local_messages = state.get(\"messages\", [])\n",
    "    if not local_messages:\n",
    "        human_message = HumanMessage(content=state[\"article\"])\n",
    "        local_messages.append(human_message)\n",
    "    system_message = SystemMessage(\n",
    "        content=\"\"\"You are an economic agent tasked with finding the current exchange rate of a given country.\n",
    "                    If the rate is unavailable, use the appropriate tool to fetch the data.\"\"\"\n",
    "    )\n",
    "    response = model2.invoke([system_message] + local_messages)\n",
    "    state[\"agent_output\"] = response.content\n",
    "    state[\"messages\"] = local_messages + [response]\n",
    "    return state\n",
    "\n",
    "# 조건 분기\n",
    "def should_continue(state: OverallState) -> Literal[\"tools\", END]:\n",
    "    last_message = state[\"messages\"][-1]\n",
    "    if getattr(last_message, \"tool_calls\", None):\n",
    "        return \"tools\"\n",
    "    return END\n",
    "\n",
    "# 그래프 구성\n",
    "exchange_graph = StateGraph(OverallState, input=InputState, output=OutputState)\n",
    "exchange_graph.add_node(\"call_model_exchange_rate\", call_model_exchange_rate)\n",
    "exchange_graph.add_node(\"tools\", ToolNode(tools2))\n",
    "exchange_graph.add_edge(START, \"call_model_exchange_rate\")\n",
    "exchange_graph.add_conditional_edges(\"call_model_exchange_rate\", should_continue)\n",
    "exchange_graph.add_edge(\"tools\", \"call_model_exchange_rate\")\n",
    "\n",
    "exchange_rate_agent = exchange_graph.compile()"
   ]
  },
  {
   "cell_type": "code",
   "execution_count": 6,
   "metadata": {},
   "outputs": [
    {
     "name": "stdout",
     "output_type": "stream",
     "text": [
      "💱 Exchange Rate Info:\n",
      " 한국과 미국 간의 교역이 10% 증가하는 것은 두 나라의 경제에 긍정적인 영향을 미칠 수 있습니다. 이러한 증가가 예상되는 이유는 여러 가지가 있을 수 있으며, 예를 들어 무역 마찰 완화, 새로운 무역 협정, 글로벌 경제 회복 등이 있을 수 있습니다.\n",
      "\n",
      "교역이 증가하면 다음과 같은 효과가 있을 수 있습니다:\n",
      "\n",
      "1. **경제 성장**: 교역 증가로 인해 양국의 GDP가 증가할 가능성이 있습니다.\n",
      "2. **고용 창출**: 수출입 활동이 활발해짐에 따라 관련 산업에서의 고용이 증가할 수 있습니다.\n",
      "3. **소비자 선택 확대**: 다양한 상품과 서비스가 유입되면서 소비자 선택의 폭이 넓어질 것입니다.\n",
      "4. **국제 관계 강화**: 경제적 관계가 강화됨에 따라 양국 간의 정치적 관계도 긍정적인 영향을 받을 수 있습니다.\n",
      "\n",
      "이와 관련하여 특정한 수치나 데이터를 원하신다면, 예를 들어 교역 규모나 환율 정보를 제공해 드릴 수 있습니다. 필요하신 정보가 있으면 말씀해 주세요!\n"
     ]
    }
   ],
   "source": [
    "initial_state = {\n",
    "    \"article\": \"한국과 미국의 교역이 10% 증가할 것 같습니다.\",\n",
    "}\n",
    "\n",
    "result = exchange_rate_agent.invoke(initial_state)\n",
    "\n",
    "print(\"💱 Exchange Rate Info:\\n\", result[\"agent_output\"])"
   ]
  },
  {
   "cell_type": "code",
   "execution_count": 7,
   "metadata": {},
   "outputs": [
    {
     "name": "stdout",
     "output_type": "stream",
     "text": [
      "💱 Exchange Rate Info:\n",
      " 대만과 유럽 간의 교역이 5% 증가한다는 것은 두 지역 간의 경제적 관계가 강화되고 있다는 긍정적인 신호입니다. 이로 인해 양측은 더 많은 상품과 서비스를 수출입하게 될 것이며, 이는 경제 성장과 일자리 창출에 긍정적인 영향을 미칠 수 있습니다. 또한, 투자 기회나 기술 이전과 같은 추가적인 이익도 기대할 수 있습니다.\n",
      "\n",
      "특정 문제나 추가적인 정보가 필요하시면 말씀해 주세요!\n"
     ]
    }
   ],
   "source": [
    "initial_state = {\n",
    "    \"article\": \"대만과 유럽의 교역이 5% 증가할 것 같습니다.\",\n",
    "}\n",
    "\n",
    "result = exchange_rate_agent.invoke(initial_state)\n",
    "\n",
    "print(\"💱 Exchange Rate Info:\\n\", result[\"agent_output\"])"
   ]
  },
  {
   "cell_type": "code",
   "execution_count": 8,
   "metadata": {},
   "outputs": [],
   "source": [
    "class InputState(TypedDict):\n",
    "    article: str\n",
    "\n",
    "\n",
    "class OutputState(TypedDict):\n",
    "    agent_output: str\n",
    "\n",
    "\n",
    "class OverallState(InputState, OutputState):\n",
    "    pass\n",
    "\n",
    "\n",
    "model_text_writer = ChatOpenAI(model=\"gpt-4o-mini\")\n",
    "\n",
    "\n",
    "def expand_text_to_100_words(state: OverallState):\n",
    "    human_message = HumanMessage(content=state[\"article\"])\n",
    "    system_message = SystemMessage(\n",
    "        content=\"Expand the following text to be at least 100 words. Maintain the original meaning while adding detail.\"\n",
    "    )\n",
    "    response = model_text_writer.invoke([system_message, human_message])\n",
    "    state[\"agent_output\"] = response.content\n",
    "    return state\n",
    "\n",
    "\n",
    "text_writer_graph = StateGraph(OverallState, input=InputState, output=OutputState)\n",
    "text_writer_graph.add_node(\"expand_text_to_100_words\", expand_text_to_100_words)\n",
    "text_writer_graph.add_edge(START, \"expand_text_to_100_words\")\n",
    "text_writer_graph.add_edge(\"expand_text_to_100_words\", END)\n",
    "\n",
    "text_writer_agent = text_writer_graph.compile()"
   ]
  },
  {
   "cell_type": "code",
   "execution_count": 9,
   "metadata": {},
   "outputs": [
    {
     "data": {
      "text/plain": [
       "{'agent_output': '현재 한국과 미국 간의 교역이 약 10% 증가할 것으로 예상되고 있습니다. 이는 양국 간의 경제적 유대가 더욱 강화되고 있다는 긍정적인 신호로 해석될 수 있습니다. 한국은 다양한 산업 분야에서 경쟁력을 갖추고 있으며, 미국은 세계 최대의 경제 대국으로서 한국 제품에 대한 수요가 증가하고 있습니다. 이러한 교역 증가의 배경에는 양국 간의 무역 협정 및 경제 협력 강화가 있기도 하며, 서로의 시장 접근성이 개선되고 있기 때문입니다. 이로 인해 한국 기업들은 미국 시장에서의 기회를 확대하고, 미국 기업들은 한국의 혁신적인 제품과 기술을 접할 수 있는 기회를 얻게 될 것입니다. 이러한 상호 이익은 양국 경제 성장에 긍정적인 영향을 미칠 것으로 기대됩니다.'}"
      ]
     },
     "execution_count": 9,
     "metadata": {},
     "output_type": "execute_result"
    }
   ],
   "source": [
    "text_writer_agent.invoke(\n",
    "    {\"article\": \"한국과 미국의 교역이 10% 증가할 것 같습니다.\"}\n",
    ")"
   ]
  },
  {
   "cell_type": "markdown",
   "metadata": {},
   "source": [
    "# Supervisor Agent"
   ]
  },
  {
   "cell_type": "code",
   "execution_count": 18,
   "metadata": {},
   "outputs": [],
   "source": [
    "from langchain_openai import ChatOpenAI\n",
    "from langchain_core.prompts import ChatPromptTemplate\n",
    "from pydantic import BaseModel, Field\n",
    "\n",
    "# Supervisor Agent\n",
    "class ArticlePostabilityGrader(BaseModel):\n",
    "    off_or_ontopic: str = Field(description=\"The article is about economics or not, 'yes' or 'no'\")\n",
    "    mentions_gdp_value: str = Field(description=\"The article mentions GDP or economic value, 'yes' or 'no'\")\n",
    "    mentions_exchange_value: str = Field(description=\"The article mentions exchange rate or economic context, 'yes' or 'no'\")\n",
    "    meets_100_words: str = Field(description=\"The article has at least 100 words, 'yes' or 'no'\")\n",
    "\n",
    "llm_postability = ChatOpenAI(model=\"gpt-4o-mini\", temperature=0)\n",
    "structured_llm_postability_grader = llm_postability.with_structured_output(\n",
    "    ArticlePostabilityGrader\n",
    ")\n",
    "\n",
    "postability_system = \"\"\"\n",
    "You are a grader assessing whether a news article meets the following criteria:\n",
    "1. The article is about economics. If yes, answer 'yes'; otherwise, 'no'.\n",
    "2. The article explicitly mentions GDP or economic value. If yes, answer 'yes'; otherwise, 'no'.\n",
    "3. The article mentions exchange rate or relevant economic information. If yes, answer 'yes'; otherwise, 'no'.\n",
    "4. The article contains at least 100 words. If yes, answer 'yes'; otherwise, 'no'.\n",
    "\"\"\"\n",
    "\n",
    "postability_grade_prompt = ChatPromptTemplate.from_messages(\n",
    "    [(\"system\", postability_system), (\"human\", \"News Article:\\n\\n{article}\")]\n",
    ")\n",
    "\n",
    "news_chef = postability_grade_prompt | structured_llm_postability_grader"
   ]
  },
  {
   "cell_type": "code",
   "execution_count": 20,
   "metadata": {},
   "outputs": [
    {
     "data": {
      "text/plain": [
       "ArticlePostabilityGrader(off_or_ontopic='yes', mentions_gdp_value='yes', mentions_exchange_value='no', meets_100_words='no')"
      ]
     },
     "execution_count": 20,
     "metadata": {},
     "output_type": "execute_result"
    }
   ],
   "source": [
    "news_chef.invoke({\"article\": \"한국의 GDP가 10% 증가할 것 같습니다.\"})"
   ]
  },
  {
   "cell_type": "code",
   "execution_count": 13,
   "metadata": {},
   "outputs": [
    {
     "data": {
      "text/plain": [
       "ArticlePostabilityGrader(off_or_ontopic='no', mentions_market_value='no', mentions_current_club='no', meets_100_words='no')"
      ]
     },
     "execution_count": 13,
     "metadata": {},
     "output_type": "execute_result"
    }
   ],
   "source": [
    "news_chef.invoke({\"article\": \"K-POP의 인기가 날로 높아지고 있습니다.\"})"
   ]
  },
  {
   "cell_type": "markdown",
   "metadata": {},
   "source": [
    "# Workflow"
   ]
  },
  {
   "cell_type": "code",
   "execution_count": 21,
   "metadata": {},
   "outputs": [],
   "source": [
    "from typing import TypedDict, Literal\n",
    "from langgraph.graph import END, StateGraph\n",
    "\n",
    "\n",
    "class InputArticleState(TypedDict):\n",
    "    article: str\n",
    "\n",
    "\n",
    "class OutputFinalArticleState(TypedDict):\n",
    "    final_article: str\n",
    "    off_or_ontopic: str\n",
    "\n",
    "\n",
    "class SharedArticleState(InputArticleState, OutputFinalArticleState):\n",
    "    mentions_gdp_value: str\n",
    "    mentions_exchange_value: str\n",
    "    meets_100_words: str\n",
    "\n",
    "\n",
    "def update_article_state(state: SharedArticleState) -> SharedArticleState:\n",
    "    response = news_chef.invoke({\"article\": state[\"article\"]})\n",
    "    state[\"off_or_ontopic\"] = response.off_or_ontopic\n",
    "    state[\"mentions_gdp_value\"] = response.mentions_gdp_value\n",
    "    state[\"mentions_exchange_value\"] = response.mentions_exchange_value\n",
    "    state[\"meets_100_words\"] = response.meets_100_words\n",
    "    print(\"State after update_article_state:\", state)\n",
    "    return state\n",
    "\n",
    "\n",
    "def gdp_researcher_node(state: SharedArticleState) -> SharedArticleState:\n",
    "    response = gdp_research_agent.invoke({\"article\": state[\"article\"]})\n",
    "    state[\"article\"] += f\" {response['agent_output']}\"\n",
    "    return state\n",
    "\n",
    "\n",
    "def current_exchange_researcher_node(state: SharedArticleState) -> SharedArticleState:\n",
    "    response = exchange_rate_agent.invoke({\"article\": state[\"article\"]})\n",
    "    state[\"article\"] += f\" {response['agent_output']}\"\n",
    "    return state\n",
    "\n",
    "\n",
    "def word_count_rewriter_node(state: SharedArticleState) -> SharedArticleState:\n",
    "    response = text_writer_agent.invoke({\"article\": state[\"article\"]})\n",
    "    state[\"article\"] += f\" {response['agent_output']}\"\n",
    "    state[\"final_article\"] = response[\"agent_output\"]\n",
    "    return state\n",
    "\n",
    "\n",
    "def news_chef_decider(\n",
    "    state: SharedArticleState,\n",
    ") -> Literal[\n",
    "    \"gdp_researcher\", \"current_exchange_researcher\", \"word_count_rewriter\", END\n",
    "]:\n",
    "    if state[\"off_or_ontopic\"] == \"no\":\n",
    "        return END\n",
    "    if state[\"mentions_gdp_value\"] == \"no\":\n",
    "        return \"gdp_researcher\"\n",
    "    elif state[\"mentions_exchange_value\"] == \"no\":\n",
    "        return \"current_exchange_researcher\"\n",
    "    elif (\n",
    "        state[\"meets_100_words\"] == \"no\"\n",
    "        and state[\"mentions_gdp_value\"] == \"yes\"\n",
    "        and state[\"mentions_exchange_value\"] == \"yes\"\n",
    "    ):\n",
    "        return \"word_count_rewriter\"\n",
    "    else:\n",
    "        return END\n",
    "\n",
    "\n",
    "workflow = StateGraph(\n",
    "    SharedArticleState, input=InputArticleState, output=OutputFinalArticleState\n",
    ")\n",
    "\n",
    "workflow.add_node(\"news_chef\", update_article_state)\n",
    "workflow.add_node(\"gdp_researcher\", gdp_researcher_node)\n",
    "workflow.add_node(\"current_exchange_researcher\", current_exchange_researcher_node)\n",
    "workflow.add_node(\"word_count_rewriter\", word_count_rewriter_node)\n",
    "\n",
    "workflow.set_entry_point(\"news_chef\")\n",
    "\n",
    "workflow.add_conditional_edges(\n",
    "    \"news_chef\",\n",
    "    news_chef_decider,\n",
    "    {\n",
    "        \"gdp_researcher\": \"gdp_researcher\",\n",
    "        \"current_exchange_researcher\": \"current_exchange_researcher\",\n",
    "        \"word_count_rewriter\": \"word_count_rewriter\",\n",
    "        END: END,\n",
    "    },\n",
    ")\n",
    "\n",
    "workflow.add_edge(\"gdp_researcher\", \"news_chef\")\n",
    "workflow.add_edge(\"current_exchange_researcher\", \"news_chef\")\n",
    "workflow.add_edge(\"word_count_rewriter\", \"news_chef\")\n",
    "\n",
    "app = workflow.compile()"
   ]
  },
  {
   "cell_type": "code",
   "execution_count": 22,
   "metadata": {},
   "outputs": [
    {
     "name": "stdout",
     "output_type": "stream",
     "text": [
      "State after update_article_state: {'article': 'K-POP의 인기가 날로 높아지고 있습니다.', 'off_or_ontopic': 'no', 'mentions_gdp_value': 'no', 'mentions_exchange_value': 'no', 'meets_100_words': 'no'}\n"
     ]
    },
    {
     "data": {
      "text/plain": [
       "{'off_or_ontopic': 'no'}"
      ]
     },
     "execution_count": 22,
     "metadata": {},
     "output_type": "execute_result"
    }
   ],
   "source": [
    "app.invoke({\"article\": \"K-POP의 인기가 날로 높아지고 있습니다.\"})"
   ]
  },
  {
   "cell_type": "code",
   "execution_count": 24,
   "metadata": {},
   "outputs": [
    {
     "name": "stdout",
     "output_type": "stream",
     "text": [
      "State after update_article_state: {'article': '한국의 GDP는 환율이 10% 올라가면 어떤 영향을 받을까?', 'off_or_ontopic': 'yes', 'mentions_gdp_value': 'yes', 'mentions_exchange_value': 'yes', 'meets_100_words': 'no'}\n",
      "State after update_article_state: {'article': '한국의 GDP는 환율이 10% 올라가면 어떤 영향을 받을까? 한국의 국내총생산(GDP)은 환율 변동에 따라 여러 측면에서 영향을 받을 수 있습니다. 예를 들어, 환율이 10% 상승하게 되면 한국 원화의 가치가 달러와 같은 외화에 비해 하락하게 됩니다. 이 경우 수출품의 가격 경쟁력이 상승하여 한국 기업들이 해외 시장에서 더 많은 수출을 할 가능성이 커집니다. 결과적으로, 수출 증가로 인한 기업 매출 상승은 GDP 성장에 긍정적인 영향을 미칠 수 있습니다. 그러나 반대로, 수입품의 가격이 상승하게 되어 소비자 물가가 오를 수 있으며, 이는 가계의 구매력 감소로 이어질 수 있습니다. 따라서 환율 상승은 수출과 수입 간의 상호작용을 통해 한국 경제에 복합적인 영향을 미치게 되어, GDP의 전반적인 변동성이 커질 수 있습니다. 이러한 원인과 결과를 고려할 때, 환율 변화는 한국 경제의 성장 전망에 중요한 요소로 작용할 수 있음을 알 수 있습니다.', 'final_article': '한국의 국내총생산(GDP)은 환율 변동에 따라 여러 측면에서 영향을 받을 수 있습니다. 예를 들어, 환율이 10% 상승하게 되면 한국 원화의 가치가 달러와 같은 외화에 비해 하락하게 됩니다. 이 경우 수출품의 가격 경쟁력이 상승하여 한국 기업들이 해외 시장에서 더 많은 수출을 할 가능성이 커집니다. 결과적으로, 수출 증가로 인한 기업 매출 상승은 GDP 성장에 긍정적인 영향을 미칠 수 있습니다. 그러나 반대로, 수입품의 가격이 상승하게 되어 소비자 물가가 오를 수 있으며, 이는 가계의 구매력 감소로 이어질 수 있습니다. 따라서 환율 상승은 수출과 수입 간의 상호작용을 통해 한국 경제에 복합적인 영향을 미치게 되어, GDP의 전반적인 변동성이 커질 수 있습니다. 이러한 원인과 결과를 고려할 때, 환율 변화는 한국 경제의 성장 전망에 중요한 요소로 작용할 수 있음을 알 수 있습니다.', 'off_or_ontopic': 'yes', 'mentions_gdp_value': 'yes', 'mentions_exchange_value': 'yes', 'meets_100_words': 'yes'}\n"
     ]
    },
    {
     "data": {
      "text/plain": [
       "{'final_article': '한국의 국내총생산(GDP)은 환율 변동에 따라 여러 측면에서 영향을 받을 수 있습니다. 예를 들어, 환율이 10% 상승하게 되면 한국 원화의 가치가 달러와 같은 외화에 비해 하락하게 됩니다. 이 경우 수출품의 가격 경쟁력이 상승하여 한국 기업들이 해외 시장에서 더 많은 수출을 할 가능성이 커집니다. 결과적으로, 수출 증가로 인한 기업 매출 상승은 GDP 성장에 긍정적인 영향을 미칠 수 있습니다. 그러나 반대로, 수입품의 가격이 상승하게 되어 소비자 물가가 오를 수 있으며, 이는 가계의 구매력 감소로 이어질 수 있습니다. 따라서 환율 상승은 수출과 수입 간의 상호작용을 통해 한국 경제에 복합적인 영향을 미치게 되어, GDP의 전반적인 변동성이 커질 수 있습니다. 이러한 원인과 결과를 고려할 때, 환율 변화는 한국 경제의 성장 전망에 중요한 요소로 작용할 수 있음을 알 수 있습니다.',\n",
       " 'off_or_ontopic': 'yes'}"
      ]
     },
     "execution_count": 24,
     "metadata": {},
     "output_type": "execute_result"
    }
   ],
   "source": [
    "app.invoke({\"article\": \"한국의 GDP는 환율이 10% 올라가면 어떤 영향을 받을까?\"})"
   ]
  },
  {
   "cell_type": "markdown",
   "metadata": {},
   "source": []
  }
 ],
 "metadata": {
  "kernelspec": {
   "display_name": "base",
   "language": "python",
   "name": "python3"
  },
  "language_info": {
   "codemirror_mode": {
    "name": "ipython",
    "version": 3
   },
   "file_extension": ".py",
   "mimetype": "text/x-python",
   "name": "python",
   "nbconvert_exporter": "python",
   "pygments_lexer": "ipython3",
   "version": "3.12.7"
  }
 },
 "nbformat": 4,
 "nbformat_minor": 2
}

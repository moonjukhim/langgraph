{
 "cells": [
  {
   "cell_type": "code",
   "execution_count": null,
   "metadata": {},
   "outputs": [],
   "source": [
    "from dotenv import load_dotenv\n",
    "\n",
    "load_dotenv()"
   ]
  },
  {
   "cell_type": "markdown",
   "metadata": {},
   "source": [
    "### Subgraph\n",
    "\n",
    "1. 서브 그래프를 직접 호출하는 노드 추가\n",
    "2. 하위 그래프를 호출하는 함수가 있는 노드를 추가"
   ]
  },
  {
   "cell_type": "code",
   "execution_count": 2,
   "metadata": {},
   "outputs": [],
   "source": [
    "# 1. 서브 그래프를 직접 호출하는 노드 추가\n",
    "from typing import TypedDict\n",
    "from langgraph.graph import START, StateGraph\n",
    "\n",
    "class State(TypedDict):\n",
    "    foo: str  \n",
    "\n",
    "class SubgraphState(TypedDict):\n",
    "    foo: str  \n",
    "    bar: str\n"
   ]
  },
  {
   "cell_type": "code",
   "execution_count": 4,
   "metadata": {},
   "outputs": [],
   "source": [
    "# 서브 그래프 정의\n",
    "def subgraph_node(state: SubgraphState):\n",
    "    return {\"foo\": state[\"foo\"] + \"bar\"}\n",
    "\n",
    "subgraph_builder = StateGraph(SubgraphState)\n",
    "subgraph_builder.add_node(\"subgraph_node\", subgraph_node)\n",
    "subgraph_builder.add_edge(START, \"subgraph_node\")\n",
    "subgraph = subgraph_builder.compile()\n",
    "\n",
    "\n",
    "# 부모 그래프 정의\n",
    "builder = StateGraph(State)\n",
    "builder.add_node(\"subgraph\", subgraph)\n",
    "builder.add_edge(START, \"subgraph\")\n",
    "graph = builder.compile()"
   ]
  },
  {
   "cell_type": "code",
   "execution_count": null,
   "metadata": {},
   "outputs": [],
   "source": [
    "from IPython.display import Image, display\n",
    "from langchain_core.runnables.graph import MermaidDrawMethod\n",
    "\n",
    "display(\n",
    "    Image(\n",
    "        graph.get_graph().draw_mermaid_png(\n",
    "            draw_method=MermaidDrawMethod.API,\n",
    "        )\n",
    "    )\n",
    ")"
   ]
  },
  {
   "cell_type": "code",
   "execution_count": null,
   "metadata": {},
   "outputs": [],
   "source": [
    "initial_state = {\"foo\": \"hello\"}\n",
    "result = graph.invoke(initial_state)\n",
    "print(f\"Result: {result}\")  "
   ]
  },
  {
   "cell_type": "markdown",
   "metadata": {},
   "source": [
    "---\n",
    "### 두번째 방법\n",
    "2. 하위 그래프를 호출하는 함수가 있는 노드를 추가"
   ]
  },
  {
   "cell_type": "code",
   "execution_count": 8,
   "metadata": {},
   "outputs": [],
   "source": [
    "from typing import TypedDict\n",
    "from langgraph.graph import START, StateGraph\n",
    "\n",
    "\n",
    "class State(TypedDict):\n",
    "    foo: str\n",
    "\n",
    "\n",
    "class SubgraphState(TypedDict):\n",
    "    # 부모의 그래프 상태와 키를 공유하지 않음\n",
    "    bar: str\n",
    "    baz: str"
   ]
  },
  {
   "cell_type": "code",
   "execution_count": 9,
   "metadata": {},
   "outputs": [],
   "source": [
    "# 서브 그래프 정의\n",
    "def subgraph_node(state: SubgraphState):\n",
    "    return {\"bar\": state[\"bar\"] + \"baz\"}\n",
    "\n",
    "\n",
    "subgraph_builder = StateGraph(SubgraphState)\n",
    "subgraph_builder.add_node(\"subgraph_node\", subgraph_node)\n",
    "subgraph_builder.add_edge(START, \"subgraph_node\")\n",
    "subgraph = subgraph_builder.compile()"
   ]
  },
  {
   "cell_type": "code",
   "execution_count": 11,
   "metadata": {},
   "outputs": [],
   "source": [
    "# 서브 그래프를 호출하는 부모 그래프 정의\n",
    "def node(state: State):\n",
    "    response = subgraph.invoke({\"bar\": state[\"foo\"]})\n",
    "    # 부모 상태로 응답값을 변환\n",
    "    return {\"foo\": response[\"bar\"]}\n",
    "\n",
    "\n",
    "builder = StateGraph(State)\n",
    "builder.add_node(\"node\", node)\n",
    "builder.add_edge(START, \"node\")\n",
    "graph = builder.compile()\n"
   ]
  },
  {
   "cell_type": "code",
   "execution_count": null,
   "metadata": {},
   "outputs": [],
   "source": [
    "initial_state = {\"foo\": \"hello\"}\n",
    "result = graph.invoke(initial_state)\n",
    "print(\n",
    "    f\"Result: {result}\"\n",
    ")  # Should transform foo->bar, append \"baz\", then transform bar->foo"
   ]
  },
  {
   "cell_type": "markdown",
   "metadata": {},
   "source": [
    "### Multi-agent"
   ]
  },
  {
   "cell_type": "code",
   "execution_count": null,
   "metadata": {},
   "outputs": [],
   "source": [
    "from langgraph.graph import StateGraph, END\n",
    "from langgraph.prebuilt import create_react_agent\n",
    "from langchain_openai import ChatOpenAI\n",
    "from langchain_core.messages import HumanMessage, BaseMessage\n",
    "from langchain.tools import tool\n",
    "from typing import TypedDict, List, Annotated\n",
    "from langgraph.graph.message import add_messages  # ✅ 메시지 병합 함수\n",
    "\n",
    "# 0. 명시적 상태 스키마 정의\n",
    "class AgentState(TypedDict):\n",
    "    messages: Annotated[List[BaseMessage], add_messages]\n",
    "\n",
    "# 1. 모델 정의\n",
    "model = ChatOpenAI(model=\"gpt-4o-mini\", temperature=0)\n",
    "\n",
    "# 2. 도구 정의\n",
    "@tool\n",
    "def add(a: float, b: float) -> float:\n",
    "    \"\"\"Add two numbers.\"\"\"\n",
    "    return a + b\n",
    "\n",
    "@tool\n",
    "def multiply(a: float, b: float) -> float:\n",
    "    \"\"\"Multiply two numbers.\"\"\"\n",
    "    return a * b\n",
    "\n",
    "@tool\n",
    "def web_search(query: str) -> str:\n",
    "    \"\"\"Return company headcounts based on a simulated web search.\"\"\"\n",
    "    return (\n",
    "        \"Here are the headcounts for each of the FAANG companies in 2024:\\n\"\n",
    "        \"1. **Facebook (Meta)**: 67,317 employees.\\n\"\n",
    "        \"2. **Apple**: 164,000 employees.\\n\"\n",
    "        \"3. **Amazon**: 1,551,000 employees.\\n\"\n",
    "        \"4. **Netflix**: 14,000 employees.\\n\"\n",
    "        \"5. **Google (Alphabet)**: 181,269 employees.\"\n",
    "    )\n",
    "\n",
    "# 3. 에이전트 생성\n",
    "math_agent = create_react_agent(\n",
    "    model=model,\n",
    "    tools=[add, multiply],\n",
    "    name=\"math_expert\",\n",
    "    prompt=\"You are a math expert. Always use one tool at a time.\"\n",
    ")\n",
    "\n",
    "research_agent = create_react_agent(\n",
    "    model=model,\n",
    "    tools=[web_search],\n",
    "    name=\"research_expert\",\n",
    "    prompt=\"You are a world class researcher with access to web search. Do not do any math.\"\n",
    ")\n",
    "\n",
    "# 4. Supervisor 노드 함수 정의\n",
    "def supervisor_node(state: AgentState) -> AgentState:\n",
    "    last_message = state[\"messages\"][-1].content.lower()\n",
    "\n",
    "    if \"headcount\" in last_message:\n",
    "        # 첫 요청 → 리서치\n",
    "        if \"combined\" in last_message or \"total\" in last_message:\n",
    "            if \"research_done\" not in state:\n",
    "                return {\"__next__\": \"research_expert\", \"research_done\": True}\n",
    "            else:\n",
    "                return {\"__next__\": \"math_expert\"}\n",
    "    return {\"__next__\": END}\n",
    "\n",
    "# 5. 그래프 구성\n",
    "graph = StateGraph(AgentState)\n",
    "graph.add_node(\"supervisor\", supervisor_node)\n",
    "graph.add_node(\"math_expert\", math_agent)\n",
    "graph.add_node(\"research_expert\", research_agent)\n",
    "\n",
    "graph.set_entry_point(\"supervisor\")\n",
    "graph.add_edge(\"supervisor\", \"math_expert\")\n",
    "graph.add_edge(\"supervisor\", \"research_expert\")\n",
    "graph.add_edge(\"math_expert\", END)\n",
    "graph.add_edge(\"research_expert\", END)\n",
    "\n",
    "# 6. 컴파일 및 실행\n",
    "app = graph.compile()\n",
    "\n",
    "# 7. 실행\n",
    "output = app.invoke({\n",
    "    \"messages\": [HumanMessage(content=\"2024년 FAANG 기업의 총 직원 수는 얼마입니까? 전체 하나의 수로 응답하세요.\")]\n",
    "})\n",
    "\n",
    "# 결과 출력\n",
    "from langchain_core.messages import get_buffer_string\n",
    "print(get_buffer_string(output[\"messages\"]))\n",
    "\n",
    "last_msg = output[\"messages\"][-1]\n",
    "print(\"🧾 Final answer:\\n\", last_msg.content)"
   ]
  },
  {
   "cell_type": "code",
   "execution_count": null,
   "metadata": {},
   "outputs": [],
   "source": [
    "pip install -U langgraph langgraph-supervisor langchain"
   ]
  },
  {
   "cell_type": "code",
   "execution_count": null,
   "metadata": {},
   "outputs": [],
   "source": []
  }
 ],
 "metadata": {
  "kernelspec": {
   "display_name": "base",
   "language": "python",
   "name": "python3"
  },
  "language_info": {
   "codemirror_mode": {
    "name": "ipython",
    "version": 3
   },
   "file_extension": ".py",
   "mimetype": "text/x-python",
   "name": "python",
   "nbconvert_exporter": "python",
   "pygments_lexer": "ipython3",
   "version": "3.12.7"
  }
 },
 "nbformat": 4,
 "nbformat_minor": 2
}
